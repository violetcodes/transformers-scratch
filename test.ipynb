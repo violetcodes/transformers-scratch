{
 "cells": [
  {
   "cell_type": "code",
   "execution_count": 1,
   "metadata": {},
   "outputs": [],
   "source": [
    "%reload_ext autoreload\n",
    "%autoreload 2"
   ]
  },
  {
   "cell_type": "code",
   "execution_count": 2,
   "metadata": {},
   "outputs": [],
   "source": [
    "import torch"
   ]
  },
  {
   "cell_type": "code",
   "execution_count": 9,
   "metadata": {},
   "outputs": [],
   "source": [
    "s = torch.arange(0, 5000).unsqueeze(1)"
   ]
  },
  {
   "cell_type": "code",
   "execution_count": 13,
   "metadata": {},
   "outputs": [
    {
     "data": {
      "text/plain": [
       "\u001b[0;31mDocstring:\u001b[0m\n",
       "exp(input, out=None) -> Tensor\n",
       "\n",
       "Returns a new tensor with the exponential of the elements\n",
       "of the input tensor :attr:`input`.\n",
       "\n",
       ".. math::\n",
       "    y_{i} = e^{x_{i}}\n",
       "\n",
       "Args:\n",
       "    input (Tensor): the input tensor.\n",
       "    out (Tensor, optional): the output tensor.\n",
       "\n",
       "Example::\n",
       "\n",
       "    >>> torch.exp(torch.tensor([0, math.log(2.)]))\n",
       "    tensor([ 1.,  2.])\n",
       "\u001b[0;31mType:\u001b[0m      builtin_function_or_method\n"
      ]
     },
     "metadata": {},
     "output_type": "display_data"
    }
   ],
   "source": [
    "torch.exp??"
   ]
  },
  {
   "cell_type": "code",
   "execution_count": 30,
   "metadata": {},
   "outputs": [
    {
     "data": {
      "text/plain": [
       "tensor(9999997.)"
      ]
     },
     "execution_count": 30,
     "metadata": {},
     "output_type": "execute_result"
    }
   ],
   "source": [
    "torch.exp(torch.tensor(math.log(1e+7)))"
   ]
  },
  {
   "cell_type": "code",
   "execution_count": 31,
   "metadata": {},
   "outputs": [],
   "source": [
    "div_term = torch.exp(torch.arange(0, 756, 2) *\n",
    "                     -(math.log(10000.0) / 756))"
   ]
  },
  {
   "cell_type": "code",
   "execution_count": 32,
   "metadata": {},
   "outputs": [
    {
     "data": {
      "text/plain": [
       "tensor([1.0000, 0.9759, 0.9524, 0.9295, 0.9071, 0.8853, 0.8640, 0.8432, 0.8229,\n",
       "        0.8031, 0.7838, 0.7649, 0.7465, 0.7285, 0.7110, 0.6939, 0.6772, 0.6609,\n",
       "        0.6449, 0.6294, 0.6143, 0.5995, 0.5851, 0.5710, 0.5572, 0.5438, 0.5307,\n",
       "        0.5179, 0.5055, 0.4933])"
      ]
     },
     "execution_count": 32,
     "metadata": {},
     "output_type": "execute_result"
    }
   ],
   "source": [
    "div_term[:30]"
   ]
  },
  {
   "cell_type": "code",
   "execution_count": 41,
   "metadata": {},
   "outputs": [],
   "source": [
    "div_term2 = torch.exp(-torch.arange(0, 756, 2)*(9/756))"
   ]
  },
  {
   "cell_type": "code",
   "execution_count": 36,
   "metadata": {},
   "outputs": [
    {
     "data": {
      "text/plain": [
       "9.210340371976184"
      ]
     },
     "execution_count": 36,
     "metadata": {},
     "output_type": "execute_result"
    }
   ],
   "source": [
    "math.log(1e+4)"
   ]
  },
  {
   "cell_type": "code",
   "execution_count": 40,
   "metadata": {},
   "outputs": [
    {
     "data": {
      "text/plain": [
       "tensor([1.0000, 0.9765, 0.9535, 0.9311, 0.9092, 0.8878, 0.8669, 0.8465, 0.8266,\n",
       "        0.8071, 0.7881, 0.7696, 0.7515, 0.7338, 0.7165, 0.6997, 0.6832, 0.6671,\n",
       "        0.6514, 0.6361, 0.6211, 0.6065, 0.5923, 0.5783, 0.5647, 0.5514, 0.5385,\n",
       "        0.5258, 0.5134, 0.5013])"
      ]
     },
     "execution_count": 40,
     "metadata": {},
     "output_type": "execute_result"
    }
   ],
   "source": [
    "div_term2[:30]"
   ]
  },
  {
   "cell_type": "code",
   "execution_count": null,
   "metadata": {},
   "outputs": [],
   "source": []
  }
 ],
 "metadata": {
  "kernelspec": {
   "display_name": "Python 3.6.8 64-bit ('my_env2': virtualenv)",
   "language": "python",
   "name": "python36864bitmyenv2virtualenv58502c9948e845eaad9a68d629eadcc9"
  },
  "language_info": {
   "codemirror_mode": {
    "name": "ipython",
    "version": 3
   },
   "file_extension": ".py",
   "mimetype": "text/x-python",
   "name": "python",
   "nbconvert_exporter": "python",
   "pygments_lexer": "ipython3",
   "version": "3.6.8"
  }
 },
 "nbformat": 4,
 "nbformat_minor": 4
}
